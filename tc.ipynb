{
 "cells": [
  {
   "cell_type": "markdown",
   "metadata": {},
   "source": [
    "Definitions\n",
    "------------\n",
    "Most importantly, we remember:\n",
    "$$TC_i = \\frac{\\partial FOM}{\\partial w_i}$$\n",
    "\n",
    "Where $FOM = FOM(MM)$ is the figure of merit of the meta-model $MM$ w.r.t. to some ideal metamodel. We note that the meta model is the stake weighted average of all models $M_i$:\n",
    "\n",
    "$$MM = \\sum_{i}^{} w_i M_i $$\n",
    "with $w_i$ representing the weights (stakes) per model.\n",
    "\n",
    "Since the figure of merit behaves like a correlation coefficient, we observe:\n",
    "\n",
    "$$ FOM(MM) = FOM(a MM + c) \\quad \\forall a,c \\in \\mathbb R_{> 0} \\tag{1}$$\n",
    "\n",
    "In other words, the figure of merit is independent of offsets or changes in scale of the meta model.\n",
    "\n",
    "All positive TC\n",
    "----------------\n",
    "\n",
    "Let's assume a case where everybody has a net-positive contribution to the meta model:\n",
    "\n",
    "$$TC_i > 0 \\quad \\forall i$$\n",
    "\n",
    "Which would mean that adding some $\\epsilon_i>0$ to each model's weight would increase the figure of merit:\n",
    "\n",
    "$$FOM(MM) < FOM(\\sum_{i}^{} (w_i M_i + \\epsilon_i))$$\n",
    "\n",
    "But with $\\epsilon = \\sum_{i}^{} (\\epsilon_i)$, this gives $FOM(MM) < FOM(MM + \\epsilon)$ and therefore a contradiction with (1). $\\square$"
   ]
  }
 ],
 "metadata": {
  "kernelspec": {
   "display_name": "Python 3.8.13 ('base')",
   "language": "python",
   "name": "python3"
  },
  "language_info": {
   "codemirror_mode": {
    "name": "ipython",
    "version": 3
   },
   "file_extension": ".py",
   "mimetype": "text/x-python",
   "name": "python",
   "nbconvert_exporter": "python",
   "pygments_lexer": "ipython3",
   "version": "3.8.13"
  },
  "orig_nbformat": 4,
  "vscode": {
   "interpreter": {
    "hash": "dab3c0e845d09a4148d06d60e7ef5b399abfc9465617de826f2412f4cfe10334"
   }
  }
 },
 "nbformat": 4,
 "nbformat_minor": 2
}
